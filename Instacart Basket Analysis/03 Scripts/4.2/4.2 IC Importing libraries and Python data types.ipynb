{
 "cells": [
  {
   "cell_type": "markdown",
   "id": "03c1d61c",
   "metadata": {},
   "source": [
    "# 01. Importing Libraries"
   ]
  },
  {
   "cell_type": "code",
   "execution_count": 11,
   "id": "c8b003f8",
   "metadata": {},
   "outputs": [],
   "source": [
    "import pandas as pd\n",
    "import numpy as np\n",
    "import os\n"
   ]
  },
  {
   "cell_type": "markdown",
   "id": "88b2026c",
   "metadata": {},
   "source": [
    "# 02. Data Types"
   ]
  },
  {
   "cell_type": "code",
   "execution_count": 24,
   "id": "a8d39683",
   "metadata": {},
   "outputs": [
    {
     "data": {
      "text/plain": [
       "100"
      ]
     },
     "execution_count": 24,
     "metadata": {},
     "output_type": "execute_result"
    }
   ],
   "source": [
    "50+50"
   ]
  },
  {
   "cell_type": "code",
   "execution_count": 25,
   "id": "78a6ced8",
   "metadata": {},
   "outputs": [
    {
     "data": {
      "text/plain": [
       "100"
      ]
     },
     "execution_count": 25,
     "metadata": {},
     "output_type": "execute_result"
    }
   ],
   "source": [
    "200-100"
   ]
  },
  {
   "cell_type": "code",
   "execution_count": 26,
   "id": "b0840590",
   "metadata": {},
   "outputs": [
    {
     "data": {
      "text/plain": [
       "100"
      ]
     },
     "execution_count": 26,
     "metadata": {},
     "output_type": "execute_result"
    }
   ],
   "source": [
    "10*10"
   ]
  },
  {
   "cell_type": "code",
   "execution_count": 27,
   "id": "556b1da4",
   "metadata": {},
   "outputs": [
    {
     "data": {
      "text/plain": [
       "100"
      ]
     },
     "execution_count": 27,
     "metadata": {},
     "output_type": "execute_result"
    }
   ],
   "source": [
    "80+20"
   ]
  },
  {
   "cell_type": "code",
   "execution_count": 29,
   "id": "1f610a85",
   "metadata": {},
   "outputs": [
    {
     "data": {
      "text/plain": [
       "100"
      ]
     },
     "execution_count": 29,
     "metadata": {},
     "output_type": "execute_result"
    }
   ],
   "source": [
    "x+98"
   ]
  },
  {
   "cell_type": "code",
   "execution_count": 38,
   "id": "f2cf163e",
   "metadata": {},
   "outputs": [],
   "source": [
    "z = 10"
   ]
  },
  {
   "cell_type": "code",
   "execution_count": 39,
   "id": "55b3a6d3",
   "metadata": {},
   "outputs": [],
   "source": [
    "w = 50.1"
   ]
  },
  {
   "cell_type": "code",
   "execution_count": 40,
   "id": "2b2f5d03",
   "metadata": {},
   "outputs": [
    {
     "data": {
      "text/plain": [
       "5.01"
      ]
     },
     "execution_count": 40,
     "metadata": {},
     "output_type": "execute_result"
    }
   ],
   "source": [
    "w/z"
   ]
  },
  {
   "cell_type": "code",
   "execution_count": 42,
   "id": "bcd5b376",
   "metadata": {},
   "outputs": [],
   "source": [
    "G = \"Gonçalo\""
   ]
  },
  {
   "cell_type": "code",
   "execution_count": 46,
   "id": "0c84c87e",
   "metadata": {},
   "outputs": [],
   "source": [
    "S = \" is good student\""
   ]
  },
  {
   "cell_type": "code",
   "execution_count": 47,
   "id": "3b333334",
   "metadata": {},
   "outputs": [
    {
     "data": {
      "text/plain": [
       "'Gonçalo is good student'"
      ]
     },
     "execution_count": 47,
     "metadata": {},
     "output_type": "execute_result"
    }
   ],
   "source": [
    "G + S"
   ]
  },
  {
   "cell_type": "code",
   "execution_count": 48,
   "id": "97e525cb",
   "metadata": {},
   "outputs": [
    {
     "data": {
      "text/plain": [
       "'GonçaloGonçalo'"
      ]
     },
     "execution_count": 48,
     "metadata": {},
     "output_type": "execute_result"
    }
   ],
   "source": [
    "G*2"
   ]
  },
  {
   "cell_type": "code",
   "execution_count": 55,
   "id": "392b90e1",
   "metadata": {},
   "outputs": [],
   "source": [
    "C = \"coding\""
   ]
  },
  {
   "cell_type": "code",
   "execution_count": 56,
   "id": "39285a60",
   "metadata": {},
   "outputs": [],
   "source": [
    "F = \" is fun\""
   ]
  },
  {
   "cell_type": "code",
   "execution_count": 57,
   "id": "6626e676",
   "metadata": {},
   "outputs": [
    {
     "data": {
      "text/plain": [
       "'coding is fun'"
      ]
     },
     "execution_count": 57,
     "metadata": {},
     "output_type": "execute_result"
    }
   ],
   "source": [
    "C + F"
   ]
  },
  {
   "cell_type": "code",
   "execution_count": 58,
   "id": "42c89884",
   "metadata": {},
   "outputs": [
    {
     "data": {
      "text/plain": [
       "'coding is funcoding is funcoding is funcoding is funcoding is funcoding is funcoding is funcoding is funcoding is funcoding is funcoding is funcoding is funcoding is funcoding is funcoding is funcoding is funcoding is funcoding is funcoding is funcoding is funcoding is funcoding is funcoding is funcoding is funcoding is funcoding is funcoding is funcoding is funcoding is funcoding is funcoding is funcoding is funcoding is funcoding is funcoding is funcoding is funcoding is funcoding is funcoding is funcoding is funcoding is funcoding is funcoding is funcoding is funcoding is funcoding is funcoding is funcoding is funcoding is funcoding is funcoding is funcoding is funcoding is funcoding is funcoding is funcoding is funcoding is funcoding is funcoding is funcoding is funcoding is funcoding is funcoding is funcoding is funcoding is funcoding is funcoding is funcoding is funcoding is funcoding is funcoding is funcoding is funcoding is funcoding is funcoding is funcoding is funcoding is funcoding is funcoding is funcoding is funcoding is funcoding is funcoding is funcoding is funcoding is funcoding is funcoding is funcoding is funcoding is funcoding is funcoding is funcoding is funcoding is funcoding is funcoding is funcoding is funcoding is funcoding is funcoding is funcoding is fun'"
      ]
     },
     "execution_count": 58,
     "metadata": {},
     "output_type": "execute_result"
    }
   ],
   "source": [
    "(C+F)*100"
   ]
  },
  {
   "cell_type": "code",
   "execution_count": null,
   "id": "6c0dce04",
   "metadata": {},
   "outputs": [],
   "source": []
  },
  {
   "cell_type": "code",
   "execution_count": null,
   "id": "2fb366d0",
   "metadata": {},
   "outputs": [],
   "source": []
  }
 ],
 "metadata": {
  "kernelspec": {
   "display_name": "Python 3 (ipykernel)",
   "language": "python",
   "name": "python3"
  },
  "language_info": {
   "codemirror_mode": {
    "name": "ipython",
    "version": 3
   },
   "file_extension": ".py",
   "mimetype": "text/x-python",
   "name": "python",
   "nbconvert_exporter": "python",
   "pygments_lexer": "ipython3",
   "version": "3.10.9"
  }
 },
 "nbformat": 4,
 "nbformat_minor": 5
}
